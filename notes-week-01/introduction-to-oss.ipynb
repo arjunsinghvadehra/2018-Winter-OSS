{
 "cells": [
  {
   "cell_type": "markdown",
   "metadata": {
    "slideshow": {
     "slide_type": "slide"
    }
   },
   "source": [
    "#### UBCS3 2018 Winter OSS\n",
    "---\n",
    "# Introduction to Open Source Software\n",
    "\n",
    "<br>\n",
    "\n",
    "Patrick Walls // [github.com/patrickwalls](https://github.com/patrickwalls)\n",
    "\n",
    "Colin Macdonald // [github.com/cbm755](https://github.com/cbm755)"
   ]
  },
  {
   "cell_type": "markdown",
   "metadata": {
    "slideshow": {
     "slide_type": "subslide"
    }
   },
   "source": [
    "## First Steps Towards Contributing to OSS:\n",
    "\n",
    "1. Explore GitHub and learn Git\n",
    "2. Get excited about a project\n",
    "3. Be social and track issues\n",
    "4. Make your first pull request"
   ]
  },
  {
   "cell_type": "markdown",
   "metadata": {
    "slideshow": {
     "slide_type": "slide"
    }
   },
   "source": [
    "## 1. Explore GitHub and Learn Git\n",
    "\n",
    "<br>\n",
    "\n",
    "<center>\n",
    "<img src=\"https://assets-cdn.github.com/images/modules/logos_page/Octocat.png\" style=\"height: 300px\">\n",
    "</center>"
   ]
  },
  {
   "cell_type": "markdown",
   "metadata": {
    "slideshow": {
     "slide_type": "subslide"
    }
   },
   "source": [
    "* Create a [GitHub](https://github.com/) account\n",
    "* [Explore GitHub](https://github.com/explore)\n",
    "* Read the [GitHub Guides](https://guides.github.com/)\n",
    "* Read the [Git Handbook](https://guides.github.com/introduction/git-handbook/)\n",
    "* Use [Git](https://git-scm.com/) on your own machine\n",
    "* Practice the basic git commands: `init`, `clone`, `add`, `commit`, `log`, `push` and `pull`\n",
    "* Complete an online course about Git and GitHub on [Udacity](https://classroom.udacity.com/courses/ud123)"
   ]
  },
  {
   "cell_type": "markdown",
   "metadata": {
    "slideshow": {
     "slide_type": "slide"
    }
   },
   "source": [
    "## 2. Get Excited About a Project\n",
    "\n",
    "<br>\n",
    "\n",
    "<center>\n",
    "<img src=\"img/oss_projects.png\" style=\"height: 350px\">\n",
    "</center>"
   ]
  },
  {
   "cell_type": "markdown",
   "metadata": {
    "slideshow": {
     "slide_type": "subslide"
    }
   },
   "source": [
    "* Read GitHub's [Open Source Guide](https://opensource.guide/how-to-contribute/)\n",
    "* Explore [NumFOCUS Projects](https://www.numfocus.org/sponsored-projects/)\n",
    "* Look at [awesome beginner-friendly projects](https://github.com/MunGell/awesome-for-beginners#python)\n",
    "* Get to know the project by using the software!"
   ]
  },
  {
   "cell_type": "markdown",
   "metadata": {
    "slideshow": {
     "slide_type": "slide"
    }
   },
   "source": [
    "## 3. Be Social and Track Issues\n",
    "\n",
    "\n",
    "<br>\n",
    "\n",
    "<center>\n",
    "<img src=\"https://www.popsci.com/sites/popsci.com/files/images/2017/09/robots_looking_at_each_other_small.jpg\" style=\"height: 350px\">\n",
    "</center>"
   ]
  },
  {
   "cell_type": "markdown",
   "metadata": {
    "slideshow": {
     "slide_type": "subslide"
    }
   },
   "source": [
    "* Find the \"How to Contribute\" page in the project's documentation (for example see [SymPy](https://github.com/sympy/sympy/wiki/introduction-to-contributing))\n",
    "* Join the mailing list and say \"Hello!\"\n",
    "* Search the issues on the project's Github repo"
   ]
  },
  {
   "cell_type": "markdown",
   "metadata": {
    "slideshow": {
     "slide_type": "slide"
    }
   },
   "source": [
    "## 4. Your First Pull Request"
   ]
  },
  {
   "cell_type": "code",
   "execution_count": 1,
   "metadata": {
    "slideshow": {
     "slide_type": "fragment"
    }
   },
   "outputs": [
    {
     "data": {
      "image/jpeg": "[encoded data removed]",
      "text/html": [
       "\n",
       "        <iframe\n",
       "            width=\"400\"\n",
       "            height=\"300\"\n",
       "            src=\"https://www.youtube.com/embed/HjgZQeMrw6c\"\n",
       "            frameborder=\"0\"\n",
       "            allowfullscreen\n",
       "        ></iframe>\n",
       "        "
      ],
      "text/plain": [
       "<IPython.lib.display.YouTubeVideo at 0x103d718d0>"
      ]
     },
     "execution_count": 1,
     "metadata": {},
     "output_type": "execute_result"
    }
   ],
   "source": [
    "from IPython.display import YouTubeVideo\n",
    "YouTubeVideo(\"HjgZQeMrw6c\")"
   ]
  },
  {
   "cell_type": "markdown",
   "metadata": {
    "slideshow": {
     "slide_type": "slide"
    }
   },
   "source": [
    "## For next week...\n",
    "\n",
    "1. Learn basic Git commands\n",
    "2. Explore GitHub\n",
    "3. Choose a project\n",
    "4. Be prepared to introduce your project"
   ]
  }
 ],
 "metadata": {
  "celltoolbar": "Slideshow",
  "kernelspec": {
   "display_name": "Python 3",
   "language": "python",
   "name": "python3"
  },
  "language_info": {
   "codemirror_mode": {
    "name": "ipython",
    "version": 3
   },
   "file_extension": ".py",
   "mimetype": "text/x-python",
   "name": "python",
   "nbconvert_exporter": "python",
   "pygments_lexer": "ipython3",
   "version": "3.5.3"
  }
 },
 "nbformat": 4,
 "nbformat_minor": 2
}
